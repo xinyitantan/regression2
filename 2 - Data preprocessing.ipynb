{
 "cells": [
  {
   "cell_type": "markdown",
   "metadata": {},
   "source": [
    "# Data preprocessing"
   ]
  },
  {
   "cell_type": "code",
   "execution_count": 74,
   "metadata": {},
   "outputs": [],
   "source": [
    "import sys\n",
    "import pandas as pd\n",
    "import numpy as np\n",
    "import matplotlib.pyplot as plt\n",
    "from os import path\n",
    "from datetime import datetime\n",
    "from sklearn.base import BaseEstimator, TransformerMixin\n",
    "from sklearn.preprocessing import OneHotEncoder\n",
    "from sklearn.preprocessing import StandardScaler\n",
    "from sklearn.impute import SimpleImputer\n",
    "\n",
    "import warnings\n",
    "warnings.filterwarnings('ignore')\n",
    "sys.path.append('/Users/xinyitan/Projects/Challenges/DoorDash')\n",
    "\n",
    "from pytz import timezone\n",
    "import pytz\n",
    "\n",
    "def UTC_to_PST(UTC_datetime):\n",
    "    return UTC_datetime.replace(tzinfo = pytz.utc).astimezone(tz = 'US/Pacific')\n",
    "\n",
    "df = pd.read_csv('historical_data.csv', parse_dates = ['created_at', 'actual_delivery_time'])"
   ]
  },
  {
   "cell_type": "markdown",
   "metadata": {},
   "source": [
    "## Delete unwanted rows with missing target variable and some outliers\n",
    "\n",
    "1) 7 missing target variable - delivery_duration  \n",
    "2) 1 outlier sample in 2014"
   ]
  },
  {
   "cell_type": "code",
   "execution_count": 67,
   "metadata": {},
   "outputs": [
    {
     "name": "stdout",
     "output_type": "stream",
     "text": [
      "Number of observations\n",
      "Original data:  197428\n",
      "Clean data:  197420\n",
      "<class 'pandas.core.frame.DataFrame'>\n",
      "Int64Index: 197420 entries, 0 to 197427\n",
      "Data columns (total 10 columns):\n",
      " #   Column                                        Non-Null Count   Dtype         \n",
      "---  ------                                        --------------   -----         \n",
      " 0   market_id                                     196433 non-null  float64       \n",
      " 1   created_at                                    197420 non-null  datetime64[ns]\n",
      " 2   actual_delivery_time                          197420 non-null  datetime64[ns]\n",
      " 3   store_id                                      197420 non-null  int64         \n",
      " 4   subtotal                                      197420 non-null  int64         \n",
      " 5   total_onshift_dashers                         181159 non-null  float64       \n",
      " 6   total_busy_dashers                            181159 non-null  float64       \n",
      " 7   total_outstanding_orders                      181159 non-null  float64       \n",
      " 8   estimated_store_to_consumer_driving_duration  196894 non-null  float64       \n",
      " 9   delivery_duration_seconds                     197420 non-null  float64       \n",
      "dtypes: datetime64[ns](2), float64(6), int64(2)\n",
      "memory usage: 16.6 MB\n"
     ]
    }
   ],
   "source": [
    "df['delivery_duration_seconds'] = (df['actual_delivery_time'] - df['created_at']).dt.total_seconds()\n",
    "df_clean = df[(df['delivery_duration_seconds'].notna()) & (df['created_at'].dt.year == 2015)]\n",
    "print (\"Number of observations\")\n",
    "print (\"Original data: \", df.shape[0])\n",
    "print (\"Clean data: \", df_clean.shape[0])\n",
    "df_clean.info()"
   ]
  },
  {
   "cell_type": "markdown",
   "metadata": {},
   "source": [
    "## Target variable - cap and floor\n",
    "\n",
    "### Reasoning\n",
    "1) From EDA, the distribution of target variable \"Delivery duration time\" have a long right tail; In the problem statement, this model cares \"very early/late\" more than \"slightly early/late\". **I'll use MSE as optimiztion metric.** Compared with MAE or RMSE, the training is **more sensitive to outliers**.\n",
    "\n",
    "2) Purely based on distribution, I decided to **floor and cap the target variable at 10min and 2h**, which would cap ~ 0.5% population. This number can be changed with more reasonable business judgment. \n"
   ]
  },
  {
   "cell_type": "code",
   "execution_count": 63,
   "metadata": {},
   "outputs": [
    {
     "data": {
      "text/plain": [
       "<AxesSubplot:ylabel='Frequency'>"
      ]
     },
     "execution_count": 63,
     "metadata": {},
     "output_type": "execute_result"
    },
    {
     "data": {
      "image/png": "[encoded data removed]",
      "text/plain": [
       "<Figure size 432x288 with 1 Axes>"
      ]
     },
     "metadata": {
      "needs_background": "light"
     },
     "output_type": "display_data"
    }
   ],
   "source": [
    "df_clean['duration_cf'] = df_clean['delivery_duration_seconds'].clip(60*10, 60*60*2)\n",
    "df_clean['duration_cf'].plot.hist(bins = 500)"
   ]
  },
  {
   "cell_type": "markdown",
   "metadata": {},
   "source": [
    "## Feature engineering\n",
    "\n",
    "\n",
    "Tree-based models (XGBoost, LightGBM, CatBoost) will be used for this exercise, which needs minimal effort on data cleaning (missing values, outliers) but archieve robust and good models in short time.    \n",
    "\n",
    "### Categorical variable\n",
    "1) For existing categorical variables, market_id will be used; and store_id will be igored, considering there're too many stores. Even the top store in the data accounts for less than 0.5% in percentages, which won't provide too much value.\n",
    "\n",
    "2) Create two new categorical variables to capture time effect: order created day of week and order creaed hour of day\n",
    "\n",
    "3) Use One-hot encoding to encode three categorical variables\n",
    "\n",
    "### Continuous variable\n",
    "1) Create one new continuous variable: total available dashers who are not working on an order\n",
    "\n",
    "2) Missing values stratgies: impute missing values with median and create missing flags; Three market features share the same missing pattern, which can share one missing flag.\n",
    "\n",
    "### Feature scaling\n",
    "Use StandardScaler() to scale all input features"
   ]
  },
  {
   "cell_type": "code",
   "execution_count": 124,
   "metadata": {},
   "outputs": [],
   "source": [
    "class process_cat_vars(BaseEstimator, TransformerMixin):\n",
    "            \n",
    "    def __init__(self):\n",
    "        pass\n",
    "    \n",
    "    def fit(self, X, y=None):\n",
    "        return self\n",
    "    \n",
    "    def __UTC_to_PST(UTC_datetime):\n",
    "        return UTC_datetime.replace(tzinfo = pytz.utc).astimezone(tz = 'US/Pacific')\n",
    "    \n",
    "    def transform(self, X):\n",
    "\n",
    "        # time related features\n",
    "        X['created_PST'] = X['created_at'].apply(UTC_to_PST)\n",
    "        X['created_day'] = X['created_PST'].dt.weekday\n",
    "        X['created_hour'] = X['created_PST'].dt.hour\n",
    "            \n",
    "        # impute missing market\n",
    "        X['market'] = X['market_id'].fillna(0).astype(int)\n",
    "        \n",
    "        # one-hot encoding\n",
    "        cat_vars = ['market', 'created_day', 'created_hour']\n",
    "        enc = OneHotEncoder(sparse = False)\n",
    "        cat_data = enc.fit_transform(X[cat_vars])\n",
    "        cat_name = enc.get_feature_names_out(cat_vars)\n",
    "        return pd.DataFrame(cat_data, columns = cat_name)\n",
    "\n",
    "\n",
    "class process_num_vars(BaseEstimator, TransformerMixin):\n",
    "    \n",
    "    def __init__(self):\n",
    "        pass\n",
    "    \n",
    "    def fit(self, X, y=None):\n",
    "        return self\n",
    "    \n",
    "    def transform(self, X, y=None):\n",
    "        # new continuous features\n",
    "        X['total_notbusy_dashers'] = X['total_onshift_dashers'] - X['total_busy_dashers']\n",
    "         \n",
    "        # create missing flags\n",
    "        X['missing_market_features'] = np.where(X['total_onshift_dashers'].isna(), 1, 0)\n",
    "        X['missing_driving_estimation'] = np.where(X['estimated_store_to_consumer_driving_duration'].isna(), 1, 0)\n",
    "        \n",
    "        # impute missing values with mean\n",
    "        impute = SimpleImputer(strategy = 'mean')\n",
    "        imputed_data = impute.fit_transform(X)\n",
    "        imputed_names = impute.get_feature_names_out(X.columns) \n",
    "        return pd.DataFrame(imputed_data, columns = imputed_names)\n",
    "    \n",
    "    \n",
    "cat_vars = ['market_id', 'created_at']\n",
    "num_vars = ['subtotal', 'total_onshift_dashers', 'total_busy_dashers', 'total_outstanding_orders', \n",
    "            'estimated_store_to_consumer_driving_duration', 'total_notbusy_dashers']\n",
    "\n",
    "from sklearn.compose import ColumnTransformer\n",
    "data_pipeline = ColumnTransformer([('cat_pipeline', process_cat_vars(), cat_vars),\n",
    "                                    ('num_pipeline', process_num_vars(), num_vars) \n",
    "                                    ('standardize', StandardScaler(), )\n",
    "                                  ])\n",
    "\n",
    "data_processed = data_pipeline.fit_transform(df_clean)\n",
    "data_names = data_pipeline.get_feature_names_out\n"
   ]
  },
  {
   "cell_type": "code",
   "execution_count": 136,
   "metadata": {},
   "outputs": [
    {
     "data": {
      "text/plain": [
       "<bound method ColumnTransformer.set_params of ColumnTransformer(transformers=[('cat_pipeline', process_cat_vars(),\n",
       "                                 ['market_id', 'created_at']),\n",
       "                                ('num_pipeline', process_num_vars(),\n",
       "                                 ['subtotal', 'total_onshift_dashers',\n",
       "                                  'total_busy_dashers',\n",
       "                                  'total_outstanding_orders',\n",
       "                                  'estimated_store_to_consumer_driving_duration',\n",
       "                                  'total_notbusy_dashers'])])>"
      ]
     },
     "execution_count": 136,
     "metadata": {},
     "output_type": "execute_result"
    }
   ],
   "source": [
    "data_pipeline.set_params"
   ]
  }
 ],
 "metadata": {
  "kernelspec": {
   "display_name": "Python 3",
   "language": "python",
   "name": "python3"
  },
  "language_info": {
   "codemirror_mode": {
    "name": "ipython",
    "version": 3
   },
   "file_extension": ".py",
   "mimetype": "text/x-python",
   "name": "python",
   "nbconvert_exporter": "python",
   "pygments_lexer": "ipython3",
   "version": "3.8.5"
  }
 },
 "nbformat": 4,
 "nbformat_minor": 4
}
